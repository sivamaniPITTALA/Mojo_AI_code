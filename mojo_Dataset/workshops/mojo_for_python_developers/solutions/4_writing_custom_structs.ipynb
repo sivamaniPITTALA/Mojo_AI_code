{
 "cells": [
  {
   "cell_type": "markdown",
   "metadata": {},
   "source": [
    "*Copyright 2023 Modular, Inc: Licensed under the Apache License v2.0 with LLVM Exceptions.*"
   ]
  },
  {
   "cell_type": "code",
   "execution_count": 1,
   "metadata": {},
   "outputs": [],
   "source": [
    "from tensor import Tensor, TensorShape, TensorSpec\n",
    "from math import trunc, mod\n",
    "from sys.info import simdwidthof\n",
    "from algorithm import vectorize, parallelize\n",
    "from random import rand, seed\n",
    "from python import Python"
   ]
  },
  {
   "cell_type": "code",
   "execution_count": 2,
   "metadata": {},
   "outputs": [],
   "source": [
    "struct myTensor[dtype: DType]:\n",
    "    var t: Tensor[dtype]\n",
    "\n",
    "    @always_inline\n",
    "    fn __init__(inout self, *dims: Int):\n",
    "        self.t = rand[dtype](TensorSpec(dtype, dims))\n",
    "\n",
    "    @always_inline\n",
    "    fn __init__(inout self,  owned t: Tensor[dtype]):\n",
    "        self.t = t\n",
    "\n",
    "    fn mean(self) -> Self:\n",
    "        var new_tensor = Tensor[dtype](self.t.dim(0),1)\n",
    "        alias simd_width: Int = simdwidthof[dtype]()\n",
    "        @parameter\n",
    "        fn parallel_reduce_rows(idx1: Int)->None:\n",
    "            @parameter\n",
    "            fn vectorize_reduce_row[simd_width: Int](idx2: Int) -> None:\n",
    "                new_tensor[idx1] += self.t.simd_load[simd_width](idx1*self.t.dim(1)+idx2).reduce_add()\n",
    "            vectorize[2*simd_width,vectorize_reduce_row](self.t.dim(1))\n",
    "            new_tensor[idx1] /= self.t.dim(1)\n",
    "        parallelize[parallel_reduce_rows](self.t.dim(0),8)\n",
    "        return Self(new_tensor)\n",
    "\n",
    "    fn print(self, prec: Int=4)->None:\n",
    "        let t = self.t\n",
    "        let rank = t.rank()\n",
    "        if rank == 0:\n",
    "            print(\"Error: Nothing to print. Tensor rank = 0\")\n",
    "            return\n",
    "        var dim0:Int=0\n",
    "        var dim1:Int=0\n",
    "        var dim2:Int=0\n",
    "        if rank==0 or rank>3:\n",
    "            print(\"Error: Tensor rank should be: 1,2, or 3. Tensor rank is \", rank)\n",
    "            return\n",
    "        if rank==1:\n",
    "            dim0 = 1\n",
    "            dim1 = 1\n",
    "            dim2 = t.dim(0)\n",
    "        if rank==2:\n",
    "            dim0 = 1\n",
    "            dim1 = t.dim(0)\n",
    "            dim2 = t.dim(1)\n",
    "        if rank==3:\n",
    "            dim0 = t.dim(0)\n",
    "            dim1 = t.dim(1)\n",
    "            dim2 = t.dim(2)\n",
    "        var val:SIMD[dtype, 1]=0.0\n",
    "        for i in range(dim0):\n",
    "            if i==0 and rank==3:\n",
    "                print(\"[\")\n",
    "            else:\n",
    "                if i>0:\n",
    "                    print()\n",
    "            for j in range(dim1):\n",
    "                if rank!=1:\n",
    "                    if j==0:\n",
    "                        print_no_newline(\"  [\")\n",
    "                    else:\n",
    "                        print_no_newline(\"\\n   \")\n",
    "                print_no_newline(\"[\")\n",
    "                for k in range(dim2):\n",
    "                    if rank==1:\n",
    "                        val = t[k]\n",
    "                    if rank==2:\n",
    "                        val = t[j,k]\n",
    "                    if rank==3:\n",
    "                        val = t[i,j,k]\n",
    "                    let int_str: String\n",
    "                    if val > 0:\n",
    "                        int_str = String(trunc(val).cast[DType.int32]())\n",
    "                    else:\n",
    "                        int_str = \"-\"+String(trunc(val).cast[DType.int32]())\n",
    "                        val = -val\n",
    "                    let float_str: String\n",
    "                    float_str = String(mod(val,1))\n",
    "                    let s = int_str+\".\"+float_str[2:prec+2]\n",
    "                    if k==0:\n",
    "                        print_no_newline(s)\n",
    "                    else:\n",
    "                        print_no_newline(\"  \",s)\n",
    "                print_no_newline(\"]\")\n",
    "            if rank>1:\n",
    "                print_no_newline(\"]\")\n",
    "            print()\n",
    "        if rank>2:\n",
    "            print(\"]\")\n",
    "        print(\"Tensor shape:\",t.shape().__str__(),\", Tensor rank:\",rank,\",\",\"DType:\", dtype.__str__())\n",
    "\n",
    "    "
   ]
  },
  {
   "cell_type": "code",
   "execution_count": 3,
   "metadata": {},
   "outputs": [
    {
     "name": "stdout",
     "output_type": "stream",
     "text": [
      "  [[0.0850   0.8916   0.1896   0.3980   0.7435   0.5603   0.8095   0.5117   0.9950   0.9666]\n",
      "   [0.4260   0.6529   0.9615   0.8579   0.2940   0.4146   0.5148   0.7897   0.5442   0.0936]\n",
      "   [0.4322   0.8449   0.7728   0.1918   0.7803   0.1813   0.5791   0.3141   0.4119   0.9923]\n",
      "   [0.1639   0.3348   0.0762   0.1745   0.0372   0.4674   0.6741   0.0667   0.3897   0.1653]\n",
      "   [0.9908   0.8706   0.6726   0.5877   0.2550   0.5930   0.2717   0.2704   0.0959   0.6325]]\n",
      "Tensor shape: 5x10 , Tensor rank: 2 , DType: float32\n",
      "  [[0.6151]\n",
      "   [0.5549]\n",
      "   [0.5501]\n",
      "   [0.2550]\n",
      "   [0.5240]]\n",
      "Tensor shape: 5x1 , Tensor rank: 2 , DType: float32\n"
     ]
    }
   ],
   "source": [
    "alias dtype = DType.float32\n",
    "let tx = myTensor[dtype](5,10)\n",
    "tx.print()\n",
    "tx.mean().print()"
   ]
  }
 ],
 "metadata": {
  "kernelspec": {
   "display_name": "Mojo",
   "language": "mojo",
   "name": "mojo-jupyter-kernel"
  },
  "language_info": {
   "codemirror_mode": {
    "name": "mojo"
   },
   "file_extension": ".mojo",
   "mimetype": "text/x-mojo",
   "name": "mojo"
  }
 },
 "nbformat": 4,
 "nbformat_minor": 2
}
