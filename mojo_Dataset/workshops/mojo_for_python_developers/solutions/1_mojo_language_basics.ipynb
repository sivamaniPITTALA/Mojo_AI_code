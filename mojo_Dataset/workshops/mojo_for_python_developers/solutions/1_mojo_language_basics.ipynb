{
 "cells": [
  {
   "cell_type": "markdown",
   "metadata": {},
   "source": [
    "*Copyright 2023 Modular, Inc: Licensed under the Apache License v2.0 with LLVM Exceptions.*"
   ]
  },
  {
   "cell_type": "markdown",
   "metadata": {},
   "source": [
    "# Mojo🔥 language basics"
   ]
  },
  {
   "cell_type": "code",
   "execution_count": 1,
   "metadata": {},
   "outputs": [
    {
     "name": "stdout",
     "output_type": "stream",
     "text": [
      "Hello Mojo🔥\n"
     ]
    }
   ],
   "source": [
    "print(\"Hello Mojo🔥\")"
   ]
  },
  {
   "cell_type": "code",
   "execution_count": 2,
   "metadata": {},
   "outputs": [
    {
     "name": "stdout",
     "output_type": "stream",
     "text": [
      "5\n"
     ]
    }
   ],
   "source": [
    "%%python\n",
    "def add_numbers(a,b):\n",
    "    c = a + b\n",
    "    return c\n",
    "a = 2\n",
    "b = 3\n",
    "c = add_numbers(a,b)\n",
    "print(c)"
   ]
  },
  {
   "cell_type": "code",
   "execution_count": 3,
   "metadata": {},
   "outputs": [
    {
     "name": "stdout",
     "output_type": "stream",
     "text": [
      "5\n"
     ]
    }
   ],
   "source": [
    "def add_numbers(a,b):\n",
    "    c = a + b\n",
    "    return c\n",
    "a = 2\n",
    "b = 3\n",
    "c = add_numbers(a,b)\n",
    "print(c)"
   ]
  },
  {
   "cell_type": "markdown",
   "metadata": {},
   "source": [
    "### Convert python-like `def()` to mojo🔥 `fn()` by adding types"
   ]
  },
  {
   "cell_type": "code",
   "execution_count": 4,
   "metadata": {},
   "outputs": [
    {
     "name": "stdout",
     "output_type": "stream",
     "text": [
      "5\n"
     ]
    }
   ],
   "source": [
    "def add_numbers(a: Float32,b: Float32) -> Float32:\n",
    "    c = a + b\n",
    "    return c\n",
    "a = 2\n",
    "b = 3\n",
    "c = add_numbers(a,b)\n",
    "print(c)"
   ]
  },
  {
   "cell_type": "markdown",
   "metadata": {},
   "source": [
    "Mojo variable declarations `let` and `var`"
   ]
  },
  {
   "cell_type": "code",
   "execution_count": 5,
   "metadata": {},
   "outputs": [
    {
     "name": "stdout",
     "output_type": "stream",
     "text": [
      "5\n"
     ]
    }
   ],
   "source": [
    "fn add_numbers(a: Float32,b: Float32) -> Float32:\n",
    "    var c: Float32 = 0\n",
    "    c = a + b\n",
    "    return c\n",
    "let a = 2\n",
    "let b = 3\n",
    "let c = add_numbers(a,b)\n",
    "print(c)"
   ]
  },
  {
   "cell_type": "markdown",
   "metadata": {},
   "source": [
    "### Mojo compile-time parameters vs. runtime arguments"
   ]
  },
  {
   "cell_type": "code",
   "execution_count": 6,
   "metadata": {},
   "outputs": [
    {
     "name": "stdout",
     "output_type": "stream",
     "text": [
      "0.51108330488204956  1.5446100234985352  1.1512229442596436  1.2559957504272461  1.0375385284423828  0.97503447532653809  1.3244595527648926  1.3014971017837524  1.5393573045730591  1.0602413415908813  "
     ]
    }
   ],
   "source": [
    "from tensor import Tensor\n",
    "from random import rand\n",
    "\n",
    "fn add_tensors[dtype: DType](a: Tensor[dtype], b: Tensor[dtype]) -> Tensor[dtype]:\n",
    "    let n = a.num_elements()\n",
    "    var c = Tensor[dtype](n)\n",
    "    for i in range(n):\n",
    "        c[i] = a[i] +  b[i]\n",
    "    return c\n",
    "\n",
    "alias dtype = DType.float32\n",
    "\n",
    "var a = rand[dtype](10)\n",
    "var b = rand[dtype](10)\n",
    "let c = add_tensors[dtype](a,b)\n",
    "\n",
    "for i in range(10):\n",
    "    print_no_newline(c[i],\" \")"
   ]
  },
  {
   "cell_type": "markdown",
   "metadata": {},
   "source": [
    "### Using Python with Mojo"
   ]
  },
  {
   "cell_type": "code",
   "execution_count": 7,
   "metadata": {},
   "outputs": [],
   "source": [
    "from python import Python\n",
    "let np = Python.import_module(\"numpy\")\n",
    "let plt = Python.import_module(\"matplotlib.pyplot\")"
   ]
  },
  {
   "cell_type": "code",
   "execution_count": 8,
   "metadata": {},
   "outputs": [
    {
     "data": {
      "image/png": "[encoded data removed]"
     },
     "metadata": {},
     "output_type": "display_data"
    },
    {
     "name": "stdout",
     "output_type": "stream",
     "text": [
      "\n"
     ]
    }
   ],
   "source": [
    "alias N = 100000\n",
    "var arr = np.random.randn(N)\n",
    "plt.hist(arr,100)\n",
    "plt.title(\"distribution of arr\")\n",
    "plt.grid(True)\n",
    "plt.show()"
   ]
  }
 ],
 "metadata": {
  "kernelspec": {
   "display_name": "Mojo",
   "language": "mojo",
   "name": "mojo-jupyter-kernel"
  },
  "language_info": {
   "codemirror_mode": {
    "name": "mojo"
   },
   "file_extension": ".mojo",
   "mimetype": "text/x-mojo",
   "name": "mojo"
  }
 },
 "nbformat": 4,
 "nbformat_minor": 2
}
